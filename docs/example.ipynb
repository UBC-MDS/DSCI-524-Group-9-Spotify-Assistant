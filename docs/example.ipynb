{
 "cells": [
  {
   "cell_type": "markdown",
   "metadata": {},
   "source": [
    "# Example usage\n",
    "\n",
    "To use `spotify_assistant` in a project:"
   ]
  },
  {
   "cell_type": "code",
   "execution_count": 1,
   "metadata": {},
   "outputs": [
    {
     "name": "stdout",
     "output_type": "stream",
     "text": [
      "1.0.3\n"
     ]
    }
   ],
   "source": [
    "from spotify_assistant.User import User\n",
    "from spotify_assistant import __version__\n",
    "import json\n",
    "\n",
    "print(__version__)"
   ]
  },
  {
   "cell_type": "code",
   "execution_count": 2,
   "metadata": {},
   "outputs": [],
   "source": [
    "credentials = json.load(open(\"credential.json\", \"r\"))\n",
    "RandomUser = User(credentials)"
   ]
  },
  {
   "cell_type": "code",
   "execution_count": 5,
   "metadata": {},
   "outputs": [
    {
     "data": {
      "text/plain": [
       "{'Workout': ['m.A.A.d city',\n",
       "  '10 Bands',\n",
       "  'Yes Indeed',\n",
       "  'Walk It Talk It',\n",
       "  'Nonstop',\n",
       "  'Heat Waves',\n",
       "  'R U Mine?',\n",
       "  'p r i d e . i s . t h e . d e v i l (with Lil Baby)',\n",
       "  'Backseat Freestyle',\n",
       "  'Drüg',\n",
       "  'I Am A God',\n",
       "  'Tell It To My Heart',\n",
       "  'a m a r i',\n",
       "  'Fair Trade (with Travis Scott)',\n",
       "  'Black and Yellow',\n",
       "  'Mercy',\n",
       "  'Sweet Emotion',\n",
       "  'We Paid (feat. 42 Dugg)',\n",
       "  'HUMBLE.',\n",
       "  'Look Alive (feat. Drake)',\n",
       "  'Intergalactic - Remastered 2009',\n",
       "  'Purple Lamborghini (with Rick Ross)',\n",
       "  \"X Gon' Give It to Ya - Re-Recorded - Orchestral Version\",\n",
       "  'Black Skinhead',\n",
       "  'Disco Inferno',\n",
       "  'From The Ritz To The Rubble - Live',\n",
       "  'Bounce Back',\n",
       "  'Final Warning',\n",
       "  'P.I.M.P.',\n",
       "  'Money In The Grave (Drake ft. Rick Ross)',\n",
       "  'FRANCHISE (feat. Future, Young Thug & M.I.A.) - REMIX',\n",
       "  'M&M (with Future feat. Lil Baby)',\n",
       "  'Chill Bill (feat. J. Davi$ & Spooks)',\n",
       "  'Freestyle',\n",
       "  'Freestyle',\n",
       "  'Praise God (Slowed)',\n",
       "  'Super Gremlin',\n",
       "  'Slow Down Love',\n",
       "  'White Walls (feat. ScHoolboy Q & Hollis)',\n",
       "  'No Role Modelz',\n",
       "  'GANGSTER',\n",
       "  'RELENTLESS (feat. Lil Uzi Vert)',\n",
       "  'BUTTERFLY EFFECT',\n",
       "  'SICKO MODE',\n",
       "  \"Day 'N' Nite (nightmare)\",\n",
       "  'Powerglide (feat. Juicy J) - From SR3MM',\n",
       "  'Lucky You (feat. Joyner Lucas)',\n",
       "  'Hello (feat. A Boogie Wit da Hoodie)',\n",
       "  'Wet Dreamz',\n",
       "  'Rap Saved Me (feat. Quavo)',\n",
       "  'A.D.H.D',\n",
       "  'The Real Slim Shady',\n",
       "  \"can't leave without it\",\n",
       "  'Till I Collapse',\n",
       "  'Mask Off',\n",
       "  'Chicago Freestyle (feat. Giveon)',\n",
       "  'Runnin',\n",
       "  'We Get High',\n",
       "  \"Gangsta's Paradise\",\n",
       "  'Body Head Anthem (feat. Mr. Magic & Choppa)',\n",
       "  'Still D.R.E.',\n",
       "  'Digital Dash',\n",
       "  'Over & Over',\n",
       "  'Faded',\n",
       "  'The Recipe - Bonus Track',\n",
       "  'G.O.M.D',\n",
       "  'a lot',\n",
       "  'Forever',\n",
       "  'Starboy',\n",
       "  'Hypnotize - 2014 Remaster',\n",
       "  'Mob Ties',\n",
       "  'Tokyo Drifting',\n",
       "  'Just A Lil Bit',\n",
       "  'Ramen & OJ',\n",
       "  'BOP',\n",
       "  'Swimming Pools (Drank) - Extended Version',\n",
       "  'Ric Flair Drip (with Metro Boomin)',\n",
       "  'ROOF',\n",
       "  'Lemonade (feat. Gunna, Don Toliver & NAV)',\n",
       "  'Energy',\n",
       "  'Bandit (with YoungBoy Never Broke Again)',\n",
       "  'Virgil',\n",
       "  'Alright',\n",
       "  'MIDDLE CHILD',\n",
       "  'How We Coming',\n",
       "  'Dior',\n",
       "  'CANCELLED (feat. Skepta)',\n",
       "  'I Do This',\n",
       "  'Sum 2 Prove',\n",
       "  'Shotta Flow (feat. Blueface) [Remix]',\n",
       "  \"I'm Goin In\",\n",
       "  '8 Mile - From \"8 Mile\" Soundtrack',\n",
       "  'Big Subwoofer (feat. Snoop Dogg, Ice Cube, E-40 & Too $hort ) - Single Version',\n",
       "  'Behind Barz - Bonus',\n",
       "  'King Kunta',\n",
       "  'Shoot to Thrill',\n",
       "  'Welcome To The Jungle',\n",
       "  'Slippery (feat. Gucci Mane)',\n",
       "  'Going Bad (feat. Drake)',\n",
       "  'I Get the Bag (feat. Migos)',\n",
       "  'Plain Jane REMIX (feat. Nicki Minaj)',\n",
       "  'Jigsaw',\n",
       "  'The London (feat. J. Cole & Travis Scott)',\n",
       "  'family ties (with Kendrick Lamar)',\n",
       "  'Everyday (feat. Rod Stewart, Miguel & Mark Ronson)',\n",
       "  '4K',\n",
       "  'Your Heart',\n",
       "  'PRBLMS',\n",
       "  'DNA.',\n",
       "  'Taste (feat. Offset)',\n",
       "  'In Da Club',\n",
       "  'Modern Day',\n",
       "  'Avalanche',\n",
       "  'Clique',\n",
       "  \"Can't Tell Me Nothing\",\n",
       "  'Fast Lane',\n",
       "  'Routine (feat. Rick Ross & Meek Mill)',\n",
       "  'Opps (with Yugen Blakrok)',\n",
       "  'PRIDE.',\n",
       "  'KOD',\n",
       "  'BETRAYED',\n",
       "  'Jimmy Cooks (feat. 21 Savage)',\n",
       "  'Sing For The Moment',\n",
       "  'Step Out.',\n",
       "  'Never Recover (Lil Baby & Gunna, Drake)',\n",
       "  '1 Scale (feat. G Herbo)',\n",
       "  'Me Vs Me',\n",
       "  'Pony',\n",
       "  'BACK TO BACK DDosama',\n",
       "  'MIDDLE CHILD',\n",
       "  'Casper',\n",
       "  'Lil Romeo',\n",
       "  'Super Gremlin',\n",
       "  'Ball If I Want To',\n",
       "  'gun smoke',\n",
       "  'Above The Law',\n",
       "  'Ambition For Cash',\n",
       "  'Whole Lot']}"
      ]
     },
     "execution_count": 5,
     "metadata": {},
     "output_type": "execute_result"
    }
   ],
   "source": [
    "RandomUser.get_users_playlists_songs([\"Workout\"])"
   ]
  },
  {
   "cell_type": "code",
   "execution_count": 7,
   "metadata": {},
   "outputs": [
    {
     "name": "stderr",
     "output_type": "stream",
     "text": [
      "HTTP Error for GET to https://api.spotify.com/v1/browse/new-releases with Params: {'country': 'AF', 'limit': 20, 'offset': 0} returned 400 due to Unlaunched country\n"
     ]
    },
    {
     "name": "stdout",
     "output_type": "stream",
     "text": [
      "-- Loading new releases in Asia, this may take a while...\n"
     ]
    },
    {
     "name": "stderr",
     "output_type": "stream",
     "text": [
      "HTTP Error for GET to https://api.spotify.com/v1/browse/new-releases with Params: {'country': 'CN', 'limit': 20, 'offset': 0} returned 400 due to Unlaunched country\n",
      "HTTP Error for GET to https://api.spotify.com/v1/browse/new-releases with Params: {'country': 'IR', 'limit': 20, 'offset': 0} returned 400 due to Unlaunched country\n",
      "HTTP Error for GET to https://api.spotify.com/v1/browse/new-releases with Params: {'country': 'KP', 'limit': 20, 'offset': 0} returned 400 due to Unlaunched country\n",
      "HTTP Error for GET to https://api.spotify.com/v1/browse/new-releases with Params: {'country': 'MM', 'limit': 20, 'offset': 0} returned 400 due to Unlaunched country\n",
      "HTTP Error for GET to https://api.spotify.com/v1/browse/new-releases with Params: {'country': 'SY', 'limit': 20, 'offset': 0} returned 400 due to Unlaunched country\n",
      "HTTP Error for GET to https://api.spotify.com/v1/browse/new-releases with Params: {'country': 'TM', 'limit': 20, 'offset': 0} returned 400 due to Unlaunched country\n",
      "HTTP Error for GET to https://api.spotify.com/v1/browse/new-releases with Params: {'country': 'YE', 'limit': 20, 'offset': 0} returned 400 due to Unlaunched country\n"
     ]
    },
    {
     "data": {
      "text/plain": [
       "[\"Harry's House, produced by Harry Styles\",\n",
       " 'emotionally unavailable, produced by Cat Burns',\n",
       " 'Dance Fever, produced by Florence + The Machine',\n",
       " 'So Far So Good, produced by The Chainsmokers',\n",
       " 'ESQUEMAS, produced by Becky G']"
      ]
     },
     "execution_count": 7,
     "metadata": {},
     "output_type": "execute_result"
    }
   ],
   "source": [
    "RandomUser.get_new_releases_by_continent(continent=\"Asia\")"
   ]
  }
 ],
 "metadata": {
  "kernelspec": {
   "display_name": "main",
   "language": "python",
   "name": "python3"
  },
  "language_info": {
   "codemirror_mode": {
    "name": "ipython",
    "version": 3
   },
   "file_extension": ".py",
   "mimetype": "text/x-python",
   "name": "python",
   "nbconvert_exporter": "python",
   "pygments_lexer": "ipython3",
   "version": "3.10.6"
  },
  "vscode": {
   "interpreter": {
    "hash": "8da6a41cb1c0c27f559d4b81b63fc5fe8ba5cd6a649616a3028c17682091bf1f"
   }
  }
 },
 "nbformat": 4,
 "nbformat_minor": 4
}
